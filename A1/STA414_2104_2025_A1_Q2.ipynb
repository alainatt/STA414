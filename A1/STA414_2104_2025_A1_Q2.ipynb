{
  "cells": [
    {
      "cell_type": "markdown",
      "metadata": {
        "id": "_C3YI5ul48ee"
      },
      "source": [
        "# Q2 - A Generative Model for Pokemon Unown (50 pts)"
      ]
    },
    {
      "cell_type": "markdown",
      "metadata": {
        "id": "S21_boVf5UpM"
      },
      "source": [
        "![](https://github.com/lopeLH/unown-mnist/blob/main/doc/examples.png?raw=true)\n",
        "\n",
        "\n",
        "In this question, we'll fit a Bernoulli Naïve Bayes model to the pokemon dataset, and use this model for making predictions and generating new images from the same distribution. pokemon is a dataset of 28x28 images of items of pokemon symbols.\n",
        "\n",
        "We represent each image by a vector $x^{(i)} \\in \\{0,1\\}^{D}$, where 0 and 1 represent white and black pixels respectively, and $D=784$. Each class label $c^{(i)}$ is a different item of clothing, which in the code is represented by a K=10-dimensional one-hot vector.\n",
        "\n",
        "The Bernoulli Naïve Bayes model parameterized by $\\theta$ and $\\pi$ defines the following joint probability of $x$ and $c$,\n",
        "$$p(x,c|\\theta,\\pi) = p(c|\\pi)p(x|c,\\theta) = p(c|\\pi)\\prod_{j=1}^{D}p(x_j|c,\\theta),$$\n",
        "where $x_j | c,\\theta \\sim \\operatorname{Bernoulli}(\\theta_{jc})$, i.e. $p(x_j | c,\\theta) = \\theta_{jc}^{x_j}(1-\\theta_{jc})^{1-x_j}$, and $c|\\pi$ follows a simple categorical distribution, i.e. $p(c|\\pi) = \\pi_c$.\n",
        "\n",
        "We begin by learning the parameters $\\theta$ and $\\pi$.\n",
        "\n",
        "First The following code will download and prepare the training and test sets."
      ]
    },
    {
      "cell_type": "code",
      "execution_count": 1,
      "metadata": {
        "id": "JezxnqN65SoB"
      },
      "outputs": [],
      "source": [
        "import numpy as np\n",
        "import os\n",
        "import gzip\n",
        "import struct\n",
        "import array\n",
        "import matplotlib.pyplot as plt\n",
        "import matplotlib.image\n",
        "from urllib.request import urlretrieve\n",
        "\n",
        "def download(url, filename):\n",
        "    if not os.path.exists('data'):\n",
        "        os.makedirs('data')\n",
        "    out_file = os.path.join('data', filename)\n",
        "    if not os.path.isfile(out_file):\n",
        "        urlretrieve(url, out_file)\n",
        "\n",
        "\n",
        "def unown_mnist():\n",
        "    base_url = 'https://github.com/lopeLH/unown-mnist/raw/refs/heads/main/'\n",
        "    X_test_url = 'X_test.npy'\n",
        "    X_train_url = 'X_train.npy'\n",
        "    y_train_url = 'Y_train.npy'\n",
        "    y_test_url = 'Y_test.npy'\n",
        "\n",
        "    for filename in [X_train_url,X_test_url,\n",
        "                     y_train_url,y_test_url]:\n",
        "        download(base_url + filename, filename)\n",
        "\n",
        "    X_train =  np.load('./data/X_train.npy')\n",
        "    X_test =  np.load('./data/X_test.npy')\n",
        "    Y_train =  np.load('./data/Y_train.npy')\n",
        "    Y_test =  np.load('./data/Y_test.npy')\n",
        "\n",
        "    return X_train,Y_train, X_test, Y_test\n",
        "\n",
        "def load_unown_mnist():\n",
        "    partial_flatten = lambda x: np.reshape(x, (x.shape[0], np.prod(x.shape[1:])))\n",
        "\n",
        "    one_hot = lambda x, k: np.array(x[:, None] == np.arange(k)[None, :], dtype=int)\n",
        "    train_images, train_labels, test_images, test_labels = unown_mnist()\n",
        "    num_unique_labels = len(np.unique(train_labels))\n",
        "    train_images = (partial_flatten(train_images) / 255.0).astype(float)\n",
        "    test_images = (partial_flatten(test_images) / 255.0).astype(float)\n",
        "    train_images_binarized = (train_images > 0.5).astype(float)\n",
        "    test_images_binarized = (test_images > 0.5).astype(float)\n",
        "    train_labels = one_hot(train_labels, num_unique_labels)\n",
        "    test_labels = one_hot(test_labels, num_unique_labels)\n",
        "    N_data = train_images.shape[0]\n",
        "\n",
        "    return N_data, train_images, train_images_binarized, train_labels, test_images, test_images_binarized, test_labels"
      ]
    },
    {
      "cell_type": "code",
      "execution_count": 2,
      "metadata": {
        "id": "T-9z8KEb6T5o"
      },
      "outputs": [],
      "source": [
        "N_data, train_images, train_images_binarized, train_labels, test_images, test_images_binarized, test_labels = load_unown_mnist()"
      ]
    },
    {
      "cell_type": "markdown",
      "metadata": {
        "id": "LBQwO0cA5Xq_"
      },
      "source": [
        "## Q2.1\n",
        "[4pts] Derive the expression for the Maximum Likelihood Estimator (MLE) of $\\theta$ and $\\pi$."
      ]
    },
    {
      "cell_type": "markdown",
      "metadata": {
        "id": "PYXvcdIY5Zh4"
      },
      "source": [
        "Let $D={(x^{(1)},c^{(1)}), (x^{(2)},c^{(2)}), ..., (x^{(n)},c^{(n)})}.$\n",
        "$$L=\\prod_{i=1}^{n}P(c^{(i)}|\\pi)\\prod_{j=1}^{D}\\theta_{jc^{(i)}}^{x_j^{(i)}}(1-\\theta_{jc^{(i)}})^{x_j^{(i)}}$$\n",
        "\n",
        "$$\n",
        "\\begin{split}\n",
        "l&=\\sum_{i=1}^{n}logP(c^{(i)}|\\pi)+\\sum_{i=1}^{n}\\sum_{j=1}^{D}[x_j^{(i)}log\\theta_{jc^{(i)}}+(1-x_j^{(i)})log(1-\\theta_{jc^{(i)}})]\\\\\n",
        "&=\\sum_{i=1}^{n}log\\pi_{c^{(i)}}+\\sum_{i=1}^{n}\\sum_{j=1}^{D}[x_j^{(i)}log\\theta_{jc^{(i)}}+(1-x_j^{(i)})log(1-\\theta_{jc^{(i)}})]\n",
        "\\end{split}$$\n",
        "\n",
        "Since we have 10 classes, then fix c to be any class s.t. $0\\leq t \\leq27$. And $\\sum_{c=0}^{27}\\pi_c=1$.\n",
        "\n",
        "(1) Maximize $\\sum_{i=1}^{n}log\\pi_{c^{(i)}}$ under constraint $\\sum_{c=0}^{27}\\pi_c=1$.\n",
        "\n",
        "Using Lagrange Multiplier, let\n",
        "$$\\frac{\\partial}{\\partial{\\pi_t}}\\{\\sum_{i=1}^{n}log\\pi_{c^{(i)}}+\\lambda(\\sum_{c=0}^{27}\\pi_c-1)\\}\n",
        "=\\sum_{i=1}^{n}1\\{c^{(i)}=t\\}\\frac{1}{\\pi_t}+\\lambda=0$$\n",
        "\n",
        "$$\\widehat{\\pi_t}=\\frac{-\\sum_{i=1}^{n}1\\{c^{(i)}=t\\}}{\\lambda}$$\n",
        "\n",
        "As\n",
        "$$\\sum_{t=0}^{27}\\widehat{\\pi_t}=\\sum_{t=0}^{27}\\frac{-\\sum_{i=1}^{n}1\\{c^{(i)}=t\\}}{\\lambda}=\\frac{-n}{\\lambda}=1,$$\n",
        "then\n",
        "$$\\lambda = -n.$$\n",
        "\n",
        "Thus,\n",
        "$$\\widehat{\\pi_t}=\\frac{\\sum_{i=1}^{n}1\\{c^{(i)}=t\\}}{n}$$\n",
        "\n",
        "(2) Maximize $\\sum_{i=1}^{n}\\sum_{j=1}^{D}[x_j^{(i)}log\\theta_{jc^{(i)}}+(1-x_j^{(i)})log(1-\\theta_{jc^{(i)}})]$\n",
        "\n",
        "$$\n",
        "\\begin{split}\n",
        "\\frac{\\partial}{\\partial{\\theta_{jt}}}\\{\\sum_{i=1}^{n}\\sum_{j=1}^{D}[x_j^{(i)}log\\theta_{jc^{(i)}}+(1-x_j^{(i)})(1-\\theta_{jc^{(i)}})]\\}\n",
        "&=\\sum_{i=1}^{n}\\{x_j^{(i)}1\\{c^{(i)}=t\\}\\frac{1}{\\theta_{jt}}-(1-x_j^{(i)})1\\{c^{(i)}=t\\}\\frac{1}{1-\\theta_{jt}}\\}\\\\\n",
        "&=\\sum_{i=1}^{n}\\frac{x_j^{(i)}1\\{c^{(i)}=t\\}}{\\theta_{jt}}-\\sum_{i=1}^{n}\\frac{(1-x_j^{(i)})1\\{c^{(i)}=t\\}}{1-\\theta_{jt}}\\\\\n",
        "&=0\n",
        "\\end{split}$$\n",
        "\n",
        "\n",
        "Thus,\n",
        "$$\\widehat{\\theta_{jt}} = \\frac{\\sum_{i=1}^n 1\\{c^{(i)}=t\\} x_j^{(i)}}{\\sum_{i=1}^n 1\\{c^{(i)}=t\\}}$$\n",
        "\n"
      ]
    },
    {
      "cell_type": "markdown",
      "metadata": {
        "id": "H22p_HMh5cnH"
      },
      "source": [
        "## Q2.2\n",
        "[5pts] Using the MLE for this data, many entries of $\\theta$ will be estimated to be 0, which seems extreme. So we look for another estimation method.\n",
        "\n",
        "Assume the prior distribution of $\\theta$ is such that the entries are i.i.d. and drawn from $\\operatorname{Beta}(\\alpha,\\alpha)$. Derive the Maximum A Posteriori (MAP) estimator for $\\theta$ (it has a simple final form). You can return the MLE for $\\pi$ in your implementation. From now on, we will work with this estimator."
      ]
    },
    {
      "cell_type": "markdown",
      "metadata": {
        "id": "g0cuR7ec5ecY"
      },
      "source": [
        "[Type up your derivation here]\n",
        "\n",
        "Your answer:\\\n",
        "$$P(\\theta_{jc}) = \\frac{\\Gamma(2\\alpha)}{\\Gamma(\\alpha)\\Gamma(\\alpha)} \\theta_{jc}^{\\alpha-1}(1-\\theta_{jc})^{\\alpha-1}, \\quad 0 \\leq \\theta_{jc} \\leq 1.$$\n",
        "$$\\widehat{\\theta}_{jc}^{\\text{MAP}} = \\arg\\max_{\\theta_{jc}}P(\\theta_{jc}|x, c).$$\n",
        "By Bayes Theorem,\n",
        "$$\n",
        "p(\\theta_{jc} | x, c) \\propto p(x_j | c, \\theta)p(\\theta_{jc})\n",
        "=\\left[\\prod_{i=1}^{n} \\theta_{jc}^{x_j^{(i)}} (1 - \\theta_{jc})^{1 - x_j^{(i)}}\\right] \\cdot \\theta_{jc}^{\\alpha-1}(1-\\theta_{jc})^{\\alpha-1}\\\\\n",
        "=\\theta_{jc}^{\\sum_{i=1}^{n} x_j^{(i)}+\\alpha-1}(1-\\theta_{jc})^{n-\\sum_{i=1}^{n} x_j^{(i)}+\\alpha-1}$$\n",
        "\n",
        "So $(\\theta_{jc}|x, c)$ is a Beta distribution:\n",
        "$$\\theta_{jc}|x, c\\sim\\text{Beta}\\left(\\sum_{i=1}^nx_j^{(i)}+\\alpha, n-\\sum_{i=1}^{n} x_j^{(i)}+\\alpha\\right).$$\n",
        "\n",
        "Thus, as the MAP estimator is the mode of this posterior Beta distribution, which is given by the formula, we know\n",
        "$$\\widehat{\\theta}_{jc}^{\\text{MAP}}\n",
        "=\\frac{\\sum_{i=1}^{n}x_j^{(i)}+\\alpha - 1}{\\sum_{i=1}^{n}x_j^{(i)}+\\alpha - 1 + n-\\sum_{i=1}^{n} x_j^{(i)}+\\alpha - 1} =\\frac{\\sum_{i=1}^{n}x_j^{(i)}+\\alpha - 1}{n+2\\alpha-2}.$$\n"
      ]
    },
    {
      "cell_type": "code",
      "execution_count": 3,
      "metadata": {
        "id": "FPwtC0QM5g_p"
      },
      "outputs": [],
      "source": [
        "def train_map_estimator(train_images, train_labels, alpha):\n",
        "    \"\"\" Inputs:\n",
        "        train_images (N_samples x N_features)\n",
        "        train_labels (N_samples x N_classes)\n",
        "        alpha (float)\n",
        "        Returns the MAP estimator theta_est (N_features x N_classes) and the MLE\n",
        "        estimator pi_est (N_classes)\"\"\"\n",
        "\n",
        "    # YOU NEED TO WRITE THIS PART\n",
        "    total_samples, total_features = train_images.shape\n",
        "    total_classes = train_labels.shape[1]\n",
        "\n",
        "    pi_est = np.zeros(total_classes)\n",
        "    theta_est = np.zeros((total_features, total_classes))\n",
        "\n",
        "    class_counts = np.sum(train_labels, axis=0)\n",
        "    pi_est = class_counts / total_samples\n",
        "\n",
        "    for c in range(total_classes):\n",
        "        indices = np.where(train_labels[:, c] == 1)\n",
        "\n",
        "        x_c = train_images[indices]\n",
        "        x_c_sum = np.sum(x_c, axis=0)\n",
        "\n",
        "        theta_est[:, c] = (x_c_sum + alpha - 1) / (class_counts[c] + 2 * alpha - 2)\n",
        "\n",
        "    return theta_est, pi_est"
      ]
    },
    {
      "cell_type": "markdown",
      "metadata": {
        "id": "XWE1C-e05iws"
      },
      "source": [
        "## Q2.3\n",
        "a) [4pts] Derive an expression for the class log-likelihood $\\log p(c|x,\\theta,\\pi)$ for a single image. Then, complete the implementation of the following functions. Recall that our prediction rule is to choose the class that maximizes the above log-likelihood, and accuracy is defined as the fraction of samples that are correctly predicted.\n",
        "\n",
        "Report the average log-likelihood $\\frac{1}{N}\\sum_{i=1}^{N}\\log p(c^{(i)}|x^{(i)},\\hat{\\theta},\\hat{\\pi})$ (where $N$ is the number of samples) on the training test, as well the training and test errors. Use a value of $\\alpha = 2$."
      ]
    },
    {
      "cell_type": "markdown",
      "metadata": {
        "id": "HbAcEtsM5kOy"
      },
      "source": [
        "[Type up your derivation here]\n",
        "\n",
        "Your answer:\\\n",
        "$$\n",
        "\\begin{split}\n",
        "P(c|x,\\theta,\\pi)\n",
        "&=\\frac{P(c,x,\\theta,\\pi)}{P(x,\\theta,\\pi)}\\\\\n",
        "&=\\frac{P(c,x|\\theta,\\pi)}{P(x|\\theta,\\pi)}\\\\\n",
        "&=\\frac{P(c|\\pi)P(x|c,\\theta)}{P(x|\\theta,\\pi)} \\text{ by Chain Rule}\n",
        "\\end{split}$$\n",
        "\n",
        "$$\n",
        "\\begin{split}\n",
        "P(x|\\theta,\\pi)\n",
        "&=\\sum_{c'=1}^K P(x,c'|\\theta,\\pi)\\\\\n",
        "&=\\sum_{c'=1}^K P(x|c',\\theta,\\pi)P(c'|x,\\theta,\\pi)\\\\\n",
        "&=\\sum_{c'=1}^K \\pi_{c'} \\prod_j^D P(x_j|c',\\theta,\\pi)\\\\\n",
        "&=\\sum_{c'=1}^K \\pi_{c'} \\prod_j^D \\theta_{jc'}^{x_j}(1-\\theta_{jc'})^{1-x_j}\n",
        "\\end{split}\n",
        "$$\n",
        "\n",
        "$$\n",
        "logP(x|\\theta,\\pi)\n",
        "=log(\\sum_{c'=1}^K \\pi_{c'} \\prod_j^D \\theta_{jc'}^{x_j}(1-\\theta_{jc'})^{1-x_j})\n",
        "$$\n",
        "\n",
        "$$\\begin{split}\n",
        "logP(c|x,\\theta,\\pi)\n",
        "&=logP(c|\\pi)+logP(x|c,\\theta)-logP(x|\\theta,\\pi)\\\\\n",
        "&=log\\pi_c+log\\prod_{j=1}^D\\theta_{jc}^{x_j}(1-\\theta_{jc})^{1-x_j}-logP(x|\\theta,\\pi)\\\\\n",
        "&=log\\pi_c+\\sum_{j=1}^D[x_jlog\\theta_{jc}+(1-x_j)log(1-\\theta_{jc})]-log(\\sum_{c'=1}^K \\pi_{c'} \\prod_j^D \\theta_{jc'}^{x_j}(1-\\theta_{jc'})^{1-x_j})\n",
        "\\end{split}$$\n",
        "\n",
        "\n"
      ]
    },
    {
      "cell_type": "code",
      "execution_count": 4,
      "metadata": {
        "colab": {
          "base_uri": "https://localhost:8080/"
        },
        "id": "CxHrnS-O5nPL",
        "outputId": "a44648fc-f96c-4e4a-edff-eabe52a97ebe"
      },
      "outputs": [
        {
          "name": "stdout",
          "output_type": "stream",
          "text": [
            "Average log-likelihood for MAP with alpha = 2 is -0.253\n",
            "Training accuracy for MAP with alpha = 2 is 0.989\n",
            "Test accuracy for MAP with alpha = 2 is 0.990\n"
          ]
        }
      ],
      "source": [
        "def log_likelihood(images, theta, pi):\n",
        "    \"\"\" Inputs: images (N_samples x N_features), theta, pi\n",
        "        Returns the matrix 'log_like' of loglikehoods over the input images where\n",
        "        log_like[i,c] = log p (c |x^(i), theta, pi) using the estimators theta and pi.\n",
        "        log_like is a matrix of (N_samples x N_classes)\n",
        "    Note that log likelihood is not only for c^(i), it is for all possible c's.\"\"\"\n",
        "\n",
        "    # YOU NEED TO WRITE THIS PART\n",
        "    total_samples = images.shape[0]\n",
        "    total_classes = theta.shape[1]\n",
        "    log_joint = np.zeros((total_samples, total_classes))\n",
        "\n",
        "    for c in range(total_classes):\n",
        "      log_prior = np.log(pi[c])\n",
        "      log_likelihood = np.sum(images * np.log(theta[:, c]) + (1 - images) * np.log(1 - theta[:, c]),\n",
        "                              axis = 1)\n",
        "      log_joint[:, c] = log_prior + log_likelihood\n",
        "\n",
        "      log_sum_exp = np.log(np.sum(np.exp(log_joint), axis=1, keepdims=True))\n",
        "      log_like = log_joint - log_sum_exp\n",
        "\n",
        "    return log_like\n",
        "\n",
        "\n",
        "def accuracy(log_like, labels):\n",
        "    \"\"\" Inputs: matrix of log likelihoods and 1-of-K labels (N_samples x N_classes)\n",
        "    Returns the accuracy based on predictions from log likelihood values\"\"\"\n",
        "\n",
        "    # YOU NEED TO WRITE THIS PART\n",
        "    predicted_classes = np.argmax(log_like, axis=1)\n",
        "    true_classes = np.argmax(labels, axis=1)\n",
        "    correct_predictions = np.sum(predicted_classes == true_classes)\n",
        "    accuracy = correct_predictions / len(true_classes)\n",
        "    return accuracy\n",
        "\n",
        "\n",
        "\n",
        "N_data, train_images, train_images_binarized, train_labels, test_images, test_images_binarized, test_labels = load_unown_mnist()\n",
        "\n",
        "theta_est, pi_est = train_map_estimator(train_images_binarized, train_labels, alpha=2.)\n",
        "\n",
        "loglike_train = log_likelihood(train_images_binarized, theta_est, pi_est)\n",
        "avg_loglike = np.sum(loglike_train * train_labels) / N_data\n",
        "train_accuracy = accuracy(loglike_train, train_labels)\n",
        "loglike_test = log_likelihood(test_images_binarized, theta_est, pi_est)\n",
        "test_accuracy = accuracy(loglike_test, test_labels)\n",
        "\n",
        "print(f\"Average log-likelihood for MAP with alpha = 2 is {avg_loglike:.3f}\")\n",
        "print(f\"Training accuracy for MAP with alpha = 2 is {train_accuracy:.3f}\")\n",
        "print(f\"Test accuracy for MAP with alpha = 2 is {test_accuracy:.3f}\")"
      ]
    },
    {
      "cell_type": "markdown",
      "metadata": {
        "id": "6x4WKRPa5pV2"
      },
      "source": [
        "b) [2pts] Now compute the MAP estimators using $\\alpha = 1$. Then rerun the code for computing the log-likelihoods and accuracy.\n",
        "\n",
        "What do you observe? - comment on whether it was important or not to use the MAP (with $\\alpha > 1$). Based on your previous derivation, what does $\\alpha = 1$ correspond to?\n",
        "\n",
        "(Note: You do not need to report the average log-likelihoods or accuracy in this part.)"
      ]
    },
    {
      "cell_type": "code",
      "execution_count": 5,
      "metadata": {
        "colab": {
          "base_uri": "https://localhost:8080/"
        },
        "id": "cZFJqgCn5qnd",
        "outputId": "a7de1150-88d8-4b87-c035-6d13b635b89a"
      },
      "outputs": [
        {
          "name": "stderr",
          "output_type": "stream",
          "text": [
            "<ipython-input-4-5b946133d6dd>:15: RuntimeWarning: divide by zero encountered in log\n",
            "  log_likelihood = np.sum(images * np.log(theta[:, c]) + (1 - images) * np.log(1 - theta[:, c]),\n",
            "<ipython-input-4-5b946133d6dd>:15: RuntimeWarning: invalid value encountered in multiply\n",
            "  log_likelihood = np.sum(images * np.log(theta[:, c]) + (1 - images) * np.log(1 - theta[:, c]),\n"
          ]
        },
        {
          "name": "stdout",
          "output_type": "stream",
          "text": [
            "Average log-likelihood for MAP with alpha = 1 is nan\n",
            "Training accuracy for MAP with alpha = 1 is 0.036\n",
            "Test accuracy for MAP with alpha = 1 is 0.033\n"
          ]
        }
      ],
      "source": [
        "theta_alpha1_est, pi_est = train_map_estimator(train_images_binarized, train_labels, alpha=1.)\n",
        "\n",
        "loglike_train = log_likelihood(train_images_binarized, theta_alpha1_est, pi_est)\n",
        "avg_loglike = np.sum(loglike_train * train_labels) / N_data\n",
        "train_accuracy = accuracy(loglike_train, train_labels)\n",
        "loglike_test = log_likelihood(test_images_binarized, theta_alpha1_est, pi_est)\n",
        "test_accuracy = accuracy(loglike_test, test_labels)\n",
        "\n",
        "print(f\"Average log-likelihood for MAP with alpha = 1 is {avg_loglike:.3f}\")\n",
        "print(f\"Training accuracy for MAP with alpha = 1 is {train_accuracy:.3f}\")\n",
        "print(f\"Test accuracy for MAP with alpha = 1 is {test_accuracy:.3f}\")"
      ]
    },
    {
      "cell_type": "markdown",
      "metadata": {
        "id": "hc6wNfvQ5s19"
      },
      "source": [
        "[Type up your answer here.]\\\n",
        "It is important to use the MAP with $\\alpha > 1$.\n",
        "- When $\\alpha=1$, probabilities are estimated directly from the observed data without additional smoothing. This can lead to probabilities of $\\theta=0$ or $\\theta=1$. When $\\alpha>1$ applies smoothing to prevent extreme probabilities.\n",
        "- With $\\alpha=1$, both training and test accuracies are extremely low (e.g., 0.036 and 0.033, respectively). This indicates poor model performance. With $\\alpha>1$, the smoothed estimates lead to more stable and reliable predictions. Both training and test accuracies are expected to improve significantly.\n",
        "\n",
        "When $\\alpha=1$, the MAP estimators are equivalent to the MLE estimator."
      ]
    },
    {
      "cell_type": "markdown",
      "metadata": {
        "id": "8mNsQMtw5udc"
      },
      "source": [
        "## Q2.4\n",
        "[2pts] Given this model's assumptions, is it always true that any two pixels $x_i$ and $x_j$ with $i \\neq j$ are independent:\n",
        "- when conditioned on $c$?\n",
        "- after marginalizing over $c$?\n",
        "- when unconditioned on $c$?\n",
        "\n",
        "Provide brief justification for your answers."
      ]
    },
    {
      "cell_type": "markdown",
      "metadata": {
        "id": "DvssVOji5u8-"
      },
      "source": [
        "[Type up your answer here]\n",
        "\n",
        "Your answer:\n",
        "- Yes. In Naive Bayes, $x_i$ and $x_j$ are assumed to be conditionally independent given c, which is the assumption of the model.\n",
        "$P(x_i,x_j|c)=P(x_i|c)P(x_j|c)$\n",
        "- No. $P(x_i,x_j)=\\sum_cP(x_i,x_j|c) \\cdot P(c)$ The summation acrossing all different classes introduces a dependency between them, as $P(x_i|c)$ and $P(x_j|c)$ depend on the same class c.\n",
        "- No. Without conditioning on c, the Naive Bayes assumption doesn't hold. So, $P(x_i)$ and $P(x_j)$ will be correlated if they are in the same class. Thus, they are not independent with each other."
      ]
    },
    {
      "cell_type": "markdown",
      "metadata": {
        "id": "IbAEdiGZ5xbo"
      },
      "source": [
        "## Q2.5\n",
        "[3pts]\n",
        "- How many parameters need to be estimated in the Bernoulli Naive Bayes model?\n",
        "- How many parameters need to be estimated, if we remove the Naive Bayes assumption?\n",
        "\n",
        "Briefly justify your answers."
      ]
    },
    {
      "cell_type": "markdown",
      "metadata": {
        "id": "sZVlHXSU5zCf"
      },
      "source": [
        "[Type up your answer here]\\\n",
        "D: Number of Features.\n",
        "K: Number of Classes.\n",
        "- $D \\cdot K + K - 1$\n",
        "   - $D \\cdot K$ represents the number of $\\theta_{jc}$ that need to be estimated.  \n",
        "   - $K - 1$ represents the number of class priors $\\pi_c$ that need to be estimated.\n",
        "\n",
        "- $2^D \\cdot K - 1 = (2^D - 1) \\cdot K + K - 1$\n",
        "   - $(2^D - 1) \\cdot K$ represents the estimation of $2^D - 1$ independent joint distributions for each class $c$, as there are $2^D$ different combinations for features taking binary values.  \n",
        "   - $K - 1$ represents the number of class priors $\\pi_c$ that need to be estimated.\n"
      ]
    },
    {
      "cell_type": "markdown",
      "metadata": {
        "id": "YljkxwnM52Ib"
      },
      "source": [
        "## Q2.6\n",
        "[4pts] Since we have a generative model for our data, we can do more than just prediction. Randomly sample and plot 10 images from the learned distribution using the MAP estimates. (Hint: You first need to sample the class $c$, and then sample pixels conditioned on $c$.)"
      ]
    },
    {
      "cell_type": "code",
      "execution_count": 6,
      "metadata": {
        "colab": {
          "base_uri": "https://localhost:8080/",
          "height": 244
        },
        "id": "RwgsxpKS543r",
        "outputId": "1051f050-52a4-4224-e466-0d10f2dd5f49"
      },
      "outputs": [
        {
          "data": {
            "image/png": "[encoded data removed]",
            "text/plain": [
              "<Figure size 640x480 with 1 Axes>"
            ]
          },
          "metadata": {},
          "output_type": "display_data"
        }
      ],
      "source": [
        "def image_sampler(theta, pi, num_images):\n",
        "    \"\"\" Inputs: parameters theta and pi, and number of images to sample\n",
        "    Returns the sampled images (N_images x N_features)\"\"\"\n",
        "\n",
        "    # YOU NEED TO WRITE THIS PART\n",
        "    num_features, num_classes = theta.shape\n",
        "    class_labels = np.random.choice(num_classes, size=num_images, p=pi)\n",
        "    sampled_images = np.zeros((num_images, num_features), dtype=int)\n",
        "    for i in range(num_images):\n",
        "        c = class_labels[i]\n",
        "        sampled_images[i] = np.random.binomial(1, theta[:, c])\n",
        "    return sampled_images\n",
        "\n",
        "\n",
        "def plot_images(images, ims_per_row=5, padding=5, image_dimensions=(28, 28),\n",
        "                cmap=matplotlib.cm.binary, vmin=0., vmax=1.):\n",
        "    \"\"\"Images should be a (N_images x pixels) matrix.\"\"\"\n",
        "    fig = plt.figure(1)\n",
        "    fig.clf()\n",
        "    ax = fig.add_subplot(111)\n",
        "\n",
        "    N_images = images.shape[0]\n",
        "    N_rows = np.int32(np.ceil(float(N_images) / ims_per_row))\n",
        "    pad_value = vmin\n",
        "    concat_images = np.full(((image_dimensions[0] + padding) * N_rows + padding,\n",
        "                             (image_dimensions[1] + padding) * ims_per_row + padding), pad_value)\n",
        "    for i in range(N_images):\n",
        "        cur_image = np.reshape(images[i, :], image_dimensions)\n",
        "        row_ix = i // ims_per_row\n",
        "        col_ix = i % ims_per_row\n",
        "        row_start = padding + (padding + image_dimensions[0]) * row_ix\n",
        "        col_start = padding + (padding + image_dimensions[1]) * col_ix\n",
        "        concat_images[row_start: row_start + image_dimensions[0],\n",
        "                      col_start: col_start + image_dimensions[1]] = cur_image\n",
        "        cax = ax.matshow(concat_images, cmap=cmap, vmin=vmin, vmax=vmax)\n",
        "        plt.xticks(np.array([]))\n",
        "        plt.yticks(np.array([]))\n",
        "\n",
        "    plt.plot()\n",
        "\n",
        "\n",
        "sampled_images = image_sampler(theta_est, pi_est, 10)\n",
        "plot_images(sampled_images)"
      ]
    },
    {
      "cell_type": "markdown",
      "metadata": {
        "id": "GfOKiu6452P-"
      },
      "source": [
        "## Q2.7\n",
        "[5pts] One of the advantages of generative models is that they can handle missing data, or be used to answer different sorts of questions about the model. Assume we have only observed some pixels of the image. Let $x_E = \\left\\{x_p : \\text{pixel p is observed}\\right\\}$. Derive an expression for $p(x_j|x_E,\\theta,\\pi)$, the conditional probability of an unobserved pixel $j$ given the observed pixels and distribution parameters. (Hint: You have to marginalize over $c$.)"
      ]
    },
    {
      "cell_type": "markdown",
      "metadata": {
        "id": "0unnidXz58MI"
      },
      "source": [
        "[Type up your derivation here]\n",
        "\n",
        "Your answer:\n",
        "\n",
        "$$P(x_j|x_E,\\theta,\\pi) = \\sum_c P(x_j|c,x_E, \\theta,\\pi)P(c|x_E,\\theta,\\pi)$$\n",
        "\n",
        "$$P(x_j|c,x_E,\\theta,\\pi)\n",
        "=P(x_j|c,\\theta)\n",
        "=\\theta_{cj}^{x_j}(1 - \\theta_{cj})^{1-x_j}$$\n",
        "\n",
        "By Bayes Rule,\n",
        "$$\n",
        "\\begin{split}\n",
        "P(c|x_E,\\theta,\\pi)\n",
        "&=\\frac{P(x_E|c,\\theta,\\pi)P(c|\\theta,\\pi)}{\\sum_{c'}P(x_E|c',\\theta,\\pi)P(c'|\\theta,\\pi)}\\\\\n",
        "&=\\frac{P(x_E|c,\\theta,\\pi)P(c|\\pi)}{\\sum_{c'}P(x_E|c',\\theta,\\pi)P(c'|\\pi)}\n",
        "\\end{split}$$\n",
        "\n",
        "As\n",
        "$$P(x_E|c,\\theta)=\\prod_{p \\in E}\\theta_{cp}^{x_p}(1-\\theta_{cp})^{1-x_p},$$\n",
        "then\n",
        "$$\n",
        "P(c|x_E,\\theta,\\pi)\n",
        "=\\frac{\\prod_{p \\in E}\\theta_{cp}^{x_p}(1-\\theta_{cp})^{1-x_p}P(c|\\pi)}{\\sum_{c'}\\prod_{p \\in E}\\theta_{c'p}^{x_p}(1-\\theta_{c'p})^{1-x_p}P(c'|\\pi)},\n",
        "$$\n",
        "\n",
        "So,\n",
        "$$\n",
        "\\begin{split}\n",
        "P(x_j|x_E,\\theta,\\pi)\n",
        "&=\\sum_c\\{\\frac{\\theta_{cj}^{x_j}(1 - \\theta_{cj})^{1-x_j}\\prod_{p \\in E}\\theta_{cp}^{x_p}(1-\\theta_{cp})^{1-x_p}P(c|\\pi)}{\\sum_{c'}\\prod_{p \\in E}\\theta_{c'p}^{x_p}(1-\\theta_{c'p})^{1-x_p}P(c'|\\pi)}\\}\\\\\n",
        "&=\\frac{\\sum_c \\theta_{cj}^{x_j}(1 - \\theta_{cj})^{1-x_j}\\prod_{p \\in E}\\theta_{cp}^{x_p}(1-\\theta_{cp})^{1-x_p}P(c|\\pi)}{\\sum_{c'}\\prod_{p \\in E}\\theta_{c'p}^{x_p}(1-\\theta_{c'p})^{1-x_p}P(c'|\\pi)}\n",
        "\\end{split}.\n",
        "$$"
      ]
    },
    {
      "cell_type": "markdown",
      "metadata": {
        "id": "bs6PVsK959xL"
      },
      "source": [
        "## Q2.8\n",
        "a) [5pts] We assume that only 30% of the pixels are observed. For the first 30 images in the training set, plot the images when the unobserved pixels are left as white, as well as the same images when the unobserved pixels are filled with the marginal probability of the pixel being 1 given the observed pixels, i.e. the value of the unobserved pixel $j$ is $p(x_j = 1|x_E,\\theta,\\pi)$."
      ]
    },
    {
      "cell_type": "code",
      "execution_count": 7,
      "metadata": {
        "colab": {
          "base_uri": "https://localhost:8080/",
          "height": 406
        },
        "id": "tx3co5Sj5_Df",
        "outputId": "d1f1ceaa-5d1d-488e-d726-a2ff21100111"
      },
      "outputs": [
        {
          "data": {
            "image/png": "[encoded data removed]",
            "text/plain": [
              "<Figure size 640x480 with 1 Axes>"
            ]
          },
          "metadata": {},
          "output_type": "display_data"
        }
      ],
      "source": [
        "from logging import log\n",
        "def probabilistic_imputer(theta, pi, original_images, is_observed):\n",
        "    \"\"\"Inputs: parameters theta and pi, original_images (N_images x N_features),\n",
        "        and is_observed which has the same shape as original_images, with a value\n",
        "        1. in every observed entry and 0. in every unobserved entry.\n",
        "    Returns the new images where unobserved pixels are replaced by their\n",
        "    conditional probability\"\"\"\n",
        "\n",
        "    num_images, num_features = original_images.shape\n",
        "    num_classes = len(pi)\n",
        "\n",
        "    log_joint_list = []\n",
        "\n",
        "    # Log-sum-exp trick\n",
        "    for c in range(num_classes):\n",
        "        log_joint0 = np.sum(\n",
        "            np.tile(np.log(theta[:, c]), (num_images, 1)) * (original_images * is_observed) +\n",
        "            np.tile(np.log(1 - theta[:, c]), (num_images, 1)) * ((1 - original_images) * is_observed),\n",
        "            axis=1\n",
        "        )\n",
        "        log_joint1 = log_joint0 + np.log(pi[c])\n",
        "        log_joint_list.append(log_joint1)\n",
        "\n",
        "    log_joint = np.stack(log_joint_list, axis=1)  # (num_images, num_classes)\n",
        "\n",
        "    log_sum_exp = np.log(np.sum(np.exp(log_joint), axis=1, keepdims=True))\n",
        "    log_like = log_joint - log_sum_exp\n",
        "    posterior_probs = np.exp(log_like)  # P(c | x_E)\n",
        "\n",
        "    marginal_probs = np.dot(theta, posterior_probs.T)  # (num_features, num_images)\n",
        "\n",
        "    new_images = original_images.copy()\n",
        "    new_images[is_observed == 0] = marginal_probs.T[is_observed == 0]\n",
        "\n",
        "    return new_images\n",
        "\n",
        "\n",
        "num_features = train_images_binarized.shape[1]\n",
        "is_observed = np.random.binomial(1, p=0.3, size=(20, num_features))\n",
        "plot_images(train_images_binarized[:20] * is_observed)"
      ]
    },
    {
      "cell_type": "code",
      "execution_count": 8,
      "metadata": {
        "colab": {
          "base_uri": "https://localhost:8080/",
          "height": 406
        },
        "id": "OXwHE0Fa6AgJ",
        "outputId": "368d7623-1c00-44ef-a10d-9be2ed10c136"
      },
      "outputs": [
        {
          "data": {
            "image/png": "[encoded data removed]",
            "text/plain": [
              "<Figure size 640x480 with 1 Axes>"
            ]
          },
          "metadata": {},
          "output_type": "display_data"
        }
      ],
      "source": [
        "imputed_images = probabilistic_imputer(theta_est, pi_est, train_images_binarized[:20], is_observed)\n",
        "plot_images(imputed_images)"
      ]
    },
    {
      "cell_type": "markdown",
      "metadata": {
        "id": "ZzLtHS2G6B51"
      },
      "source": [
        "b) [2pts] Now suppose instead of choosing the 30% observed pixels at random, we constructed a grid with roughly evenly spaced observed pixels, as follows:"
      ]
    },
    {
      "cell_type": "code",
      "execution_count": 9,
      "metadata": {
        "colab": {
          "base_uri": "https://localhost:8080/",
          "height": 430
        },
        "id": "XaN5HNX06DHd",
        "outputId": "116fa359-f6e3-49f0-cb1e-147e8406abcc"
      },
      "outputs": [
        {
          "data": {
            "image/png": "[encoded data removed]",
            "text/plain": [
              "<Figure size 640x480 with 1 Axes>"
            ]
          },
          "metadata": {},
          "output_type": "display_data"
        }
      ],
      "source": [
        "h, w = 28, 28\n",
        "p = 0.3\n",
        "\n",
        "num_pixels = h * w\n",
        "num_indices = int(num_pixels * p)\n",
        "\n",
        "step_size = num_pixels // num_indices\n",
        "\n",
        "indices = [(i // w, i % w) for i in range(0, num_pixels, step_size)]\n",
        "flattened_indices = [row * w + col for row, col in indices]\n",
        "\n",
        "one_hot_indices = np.zeros(num_pixels, dtype=int)\n",
        "for index in flattened_indices:\n",
        "    one_hot_indices[index] = 1\n",
        "\n",
        "one_hot_matrix = one_hot_indices.reshape(h, w)\n",
        "\n",
        "import matplotlib.pyplot as plt\n",
        "plt.imshow(one_hot_matrix, cmap='gray')\n",
        "plt.show()"
      ]
    },
    {
      "cell_type": "markdown",
      "metadata": {
        "id": "bXLlJa7P6E6g"
      },
      "source": [
        "Next we impute as before, except using this grid of observed indices."
      ]
    },
    {
      "cell_type": "code",
      "execution_count": 10,
      "metadata": {
        "colab": {
          "base_uri": "https://localhost:8080/",
          "height": 406
        },
        "id": "Bo0hcuCS6HNs",
        "outputId": "a92075f9-19d5-446a-bc64-651c22e84f2d"
      },
      "outputs": [
        {
          "data": {
            "image/png": "[encoded data removed]",
            "text/plain": [
              "<Figure size 640x480 with 1 Axes>"
            ]
          },
          "metadata": {},
          "output_type": "display_data"
        }
      ],
      "source": [
        "repeated_one_hot_indices = np.tile(one_hot_indices, (20, 1))\n",
        "imputed_images = probabilistic_imputer(theta_est, pi_est, train_images_binarized[:20], repeated_one_hot_indices)\n",
        "plot_images(imputed_images)"
      ]
    },
    {
      "cell_type": "markdown",
      "metadata": {
        "id": "DST8nJxk6FZz"
      },
      "source": [
        "Compare the resulting images you found when using the probabilistic_imputer in part 2.8 a) (random 30% observed) and 2.8 (evenly spaced 30% observed).\n",
        "\n",
        "What do you find? Why might one of the two resulting samples of images be better than the other?\n",
        "(Hint: consider what the spatial properties of naturally occuring images are.)\\\n",
        "You can use the following ground truth images to help inform your answer."
      ]
    },
    {
      "cell_type": "code",
      "execution_count": 11,
      "metadata": {
        "colab": {
          "base_uri": "https://localhost:8080/",
          "height": 406
        },
        "id": "az_e2jsr6KpV",
        "outputId": "33651708-c2a5-410d-edcb-cd58f57afdfc"
      },
      "outputs": [
        {
          "data": {
            "image/png": "[encoded data removed]",
            "text/plain": [
              "<Figure size 640x480 with 1 Axes>"
            ]
          },
          "metadata": {},
          "output_type": "display_data"
        }
      ],
      "source": [
        "plot_images(train_images[:20])"
      ]
    },
    {
      "cell_type": "markdown",
      "metadata": {
        "id": "0LrsQaxR4Uy3"
      },
      "source": [
        "\n",
        "**Answer:**\n",
        "\n",
        "The evenly spaced 30% observed one is closer to the ground truth image than the random 30% observed one. The random 30% observed one looks more noisy. This is because the evenly spced 30% observed one provides a good coverage of the image, having more contextual information to predict the missing pixels. This enables the model to captures the spatial structure and pattern of the image as natural image tends to have high spatial correlations. However, random 30% observed one may have cluster pixels, leaving a huge gap, which makes the prediction harder."
      ]
    },
    {
      "cell_type": "markdown",
      "metadata": {
        "id": "yuo2kXi76MZA"
      },
      "source": [
        "## Q2.9\n",
        "\n",
        "We now consider the Gaussian Naïve Bayes model, parameterized by $\\mu$, $\\Sigma$, $\\pi$, to model the pixel data. Thus we revert back to representing each data sample using a continuous range of values, i.e. $x^{(i)} \\in \\mathbb{R}^{D}$, and we no longer use the binarized version of the data samples. (Note that in reality $x^{(i)} \\in \\left[0,1\\right]^{D}$, but for the purposes of this question we will ignore this.) Here the joint probability distribution of $x$ and $c$ is given by $$p(x,c|\\mu,\\Sigma,\\pi) =  p(c|\\pi)p(x|c,\\mu,\\Sigma) = p(c|\\pi)p(x|c,\\mu,\\Sigma),$$ where $p(x | c,\\mu,\\Sigma) = \\frac{1}{\\sqrt{\\left(2\\pi\\right)^{D}|\\Sigma_{c}|}}\\exp\\left(-\\frac{1}{2}\\left(x-\\mu_{c}\\right)^{T}\\Sigma_{c}^{-1}\\left(x-\\mu_{c}\\right)\\right)$. As before $c|\\pi$ follows a simple categorical distribution, i.e. $p(c|\\pi) = \\pi_c$."
      ]
    },
    {
      "cell_type": "markdown",
      "metadata": {
        "id": "JUkIMtQK6M7_"
      },
      "source": [
        "[1pts] Recall in general for the normal distribution, $\\Sigma_{c} \\in \\mathbb{R}^{D,D}$. What special form does $\\Sigma_{c}$ take, in context of the Naive Bayes assumption?"
      ]
    },
    {
      "cell_type": "markdown",
      "metadata": {
        "id": "VCyde55f6PyR"
      },
      "source": [
        "[Type your answer here.]\n",
        "\n",
        "**Answer:**\n",
        "\n",
        "In the Gaussian Naive Bayes model, the covariance matrix $\\Sigma_c$ is diagonal.\n",
        "\n",
        "$$\\Sigma_c = \\text{diag}(\\sigma_{c,1}^2, \\sigma_{c,2}^2, \\dots, \\sigma_{c,D}^2)$$\n",
        "\n",
        "Becuase the Naive Bayes assumes the conditional independence between each feature given the class."
      ]
    },
    {
      "cell_type": "markdown",
      "metadata": {
        "id": "_dJryvFH6RO2"
      },
      "source": [
        "[7pts] Derive the maximum likelihood estimates of $\\mu_{c}$, $\\Sigma_{c},\\pi_{c}$ for all $c \\in \\left\\{1, \\ldots, 10\\right\\}$, then fill in the code block below with the implementation.\\\n",
        "(Hint: it is normal if you use a single for loop over the computation of each $\\Sigma_{c}$)"
      ]
    },
    {
      "cell_type": "markdown",
      "metadata": {
        "id": "cWG6QqyuG_oR"
      },
      "source": [
        "**Answer :**\n",
        "\n",
        "Let $\\theta = (\\pi_1, ..., \\pi_K, \\mu_1, ..., \\mu_K, \\Sigma_1, ..., \\Sigma_K)$, $c\\in [K]$\n",
        "\n",
        "$$\n",
        "\\begin{split}\n",
        "f_c(x)\n",
        "&=\\frac{exp\\{-\\frac{1}{2}(x-\\mu_c)^T\\Sigma_c^{-1}(x-\\mu_c)\\}}{(2\\pi)^{\\frac{D}{2}}|\\Sigma_c|^{\\frac{1}{2}}}\\\\\n",
        "&=\\frac{exp\\{-\\Sigma_{j=1}^{D}\\frac{1}{2\\sigma^2_{kj}}(x_j-\\mu_{kj})^2\\}}{(2\\pi)^{\\frac{D}{2}}(\\prod_{j=1}^D\\sigma_{cj}^2)^{\\frac{1}{2}}}\\\\\n",
        "\\end{split}$$\n",
        "\n",
        "$$L(\\theta)=\\prod_{i=1}^n\\prod_{c=1}^K[\\pi_cf_c(x_i)]^{1\\{y_i=c\\}}$$\n",
        "\n",
        "$$\n",
        "\\begin{split}\n",
        "l(\\theta)\n",
        "&=\\sum_{i=1}^{n}\\sum_{c=1}^{K}1\\{y_i=c\\}[log(\\pi_c)+logf_c(x_i)]\\\\\n",
        "&=\\sum_{i=1}^{n}\\sum_{c=1}^{K}1\\{y_i=c\\}[log(\\pi_c)-\\frac{D}{2}log(2\\pi)-\\frac{1}{2}\\sum_{j=1}^Dlog(\\sigma_{cj}^2)-\\sum_{j=1}^{D}\\frac{1}{2\\sigma^2_{cj}}(x_{ij}-\\mu_{cj})^2]\\\\\n",
        "&=\\frac{-nKD}{2}log(2\\pi)+\\sum_{i=1}^D\\sum_{c=1}^{K-1}1\\{y_i=K\\}[log(1-\\sum_{c=1}^{K-1}\\pi_c)-\\frac{1}{2}\\sum_{j=1}^{D}log(\\sigma^2_{Kj})-\\sum_{j=1}^D\\frac{1}{2\\sigma_{Kj}^2}(x_{ij}-\\mu_{Kj})^2]+\n",
        "\\sum_{i=1}^n1\\{y_i=K\\}[log(1-\\sum^{K-1}_{c=1}\\pi_c)-\\frac{1}{2}\\sum^D_{j=1}log(\\sigma^2_{Kj})-\\sum_{j=1}\\frac{1}{2\\sigma^2_{Kj}}(x_{ij}-\\mu_{Kj})^2]\n",
        "\\end{split}$$\n",
        "\n",
        "Compute maximum likelihood estimators:\n",
        "\n",
        "Let\n",
        "$$\\frac{\\partial l(\\theta)}{\\partial \\mu_{cj}}\n",
        "=\\sum_{i=1}^D\\frac{1\\{y_i=k\\}}{\\sigma^2_{cj}}(x_{ij}-\\mu_{cj})=0,$$\n",
        "\n",
        "$$\\frac{\\partial l(\\theta)}{\\partial \\sigma_{cj}^2}\n",
        "=\\sum_{i=1}^D1\\{y_i=c\\}[\\frac{-1}{2\\sigma^2_{cj}}+\\frac{1}{2\\sigma_{cj}^4}(x_{ij}-\\mu_{cj})^2]=0,$$\n",
        "\n",
        "$$\\frac{\\partial l(\\theta)}{\\partial \\pi_c}\n",
        "=\\sum_{i=1}^n\\frac{1\\{y_i=c\\}}{\\pi_c}-\\sum_{i=1}^n\\frac{1\\{y_i=K\\}}{1-\\sum_{k=1}^{K-1}\\pi_c}=0.$$\n",
        "\n",
        "Let $n_c=\\sum_{i=1}^n1\\{y_i=c\\}$,\n",
        "\n",
        "$$\\widehat{\\mu_{cj}}=\\frac{1}{n_c}\\sum_{i=1}^n1\\{y_i=c\\}x_{ij}$$\n",
        "\n",
        "$$\\widehat{\\sigma_{cj}}=\\frac{1}{n_c}\\sum_{i=1}^{n}1\\{y_i=c\\}(x_{ij}-\\widehat{\\mu_{cj}})^2$$\n",
        "\n",
        "$$\\widehat{\\pi_c}=\\frac{n_c}{n}$$"
      ]
    },
    {
      "cell_type": "code",
      "execution_count": 12,
      "metadata": {
        "id": "tV_C0_aZ6SS4"
      },
      "outputs": [],
      "source": [
        "def train_gnb_mle_estimator(train_images, train_labels, epsilon=1e-6):\n",
        "    \"\"\" Inputs:\n",
        "        train_images (N_samples x N_features)\n",
        "        train_labels (N_samples x N_classes)\n",
        "        Returns the MLE estimators mu_est, sigma_est, pi_est.\n",
        "    \"\"\"\n",
        "    # YOU NEED TO WRITE THIS PART\n",
        "    num_samples, num_features = train_images.shape\n",
        "    num_classes = train_labels.shape[1]\n",
        "    class_counts = np.sum(train_labels, axis=0)\n",
        "\n",
        "    mu_est = np.zeros((num_classes, num_features))\n",
        "    sigma_est = np.zeros((num_classes, num_features))\n",
        "    pi_est = np.zeros(num_classes)\n",
        "\n",
        "    # pi\n",
        "    pi_est = np.sum(train_labels, axis=0) / num_samples\n",
        "\n",
        "    # mu\n",
        "    mu_est = np.dot(train_labels.T, train_images) / class_counts[:, np.newaxis]\n",
        "\n",
        "    # sigma\n",
        "    for k in range(num_classes):\n",
        "        x_k = train_images[train_labels[:, k] == 1]\n",
        "        square = (x_k - mu_est[k]) ** 2\n",
        "        sigma_est[k, :] = np.sum(square, axis=0) / class_counts[k] + epsilon\n",
        "\n",
        "    return mu_est, sigma_est, pi_est"
      ]
    },
    {
      "cell_type": "markdown",
      "metadata": {
        "id": "eUDQqqCc6T0G"
      },
      "source": [
        "## Q2.10\n",
        "[6pts] Similar to before, derive an expression for the class log-likelihood $\\log p(c|x,\\mu,\\Sigma,\\pi)$ for a single image. Then, complete the implementation for computing the log_likelihoods.\n",
        "\n",
        "As before report the average log-likelihood $\\frac{1}{N}\\sum_{i=1}^{N}\\log p(c^{(i)}|x^{(i)},\\hat{\\theta},\\hat{\\pi})$ (where $N$ is the number of samples) on the training test, as well the training and test errors. Use the accuracy function you implemented earlier.\n",
        "\n",
        "Note: Here because we did not find the MAP estimators for $\\mu, \\Sigma$ we use a technique called variance smoothing, which adds a small value $\\epsilon$ to $\\Sigma$ in the implementation, before computing the log-likelihoods. The subsequent part of this question comments on what one might expect if they used the MAP estimators."
      ]
    },
    {
      "cell_type": "markdown",
      "metadata": {
        "id": "GJnRAfxNZa1X"
      },
      "source": [
        "**Answer:**\n",
        "\n",
        "$$\n",
        "\\begin{split}\n",
        "P(c|x,\\mu,\\Sigma,\\pi)\n",
        "&=\\frac{P(c,x|\\mu,\\Sigma,\\pi)}{P(x|\\mu,\\Sigma,\\pi)}\\\\\n",
        "&=\\frac{P(c|\\pi)P(x|c,\\mu,\\Sigma)}{\\sum_{c'}P(c'|\\pi)P(x|c',\\mu,\\Sigma)}\\\\\n",
        "&=\\frac{\\pi_cP(x|c,\\mu,\\Sigma)}{\\sum_{c'}\\pi_{c'}P(x|c',\\mu,\\Sigma)}\n",
        "\\end{split}\n",
        "$$\n",
        "\n",
        "Since\n",
        "$$\n",
        "p(x | c,\\mu,\\Sigma) = \\frac{1}{(2\\pi)^{\\frac{D}{2}}|\\Sigma_c|^{\\frac{1}{2}}}\\exp(-\\frac{1}{2}(x-\\mu_{c})^{T}\\Sigma_{c}^{-1}(x-\\mu_{c})),\n",
        "$$\n",
        "\n",
        "then\n",
        "$$\n",
        "logp(x | c,\\mu,\\Sigma) = -\\frac{D}{2}log(2\\pi)-\\frac{1}{2}log(|\\Sigma_c|)-\\frac{1}{2}(x-\\mu_c)^T\\Sigma_c^{-1}(x-\\mu_c)\n",
        "$$\n",
        "\n",
        "So,\n",
        "$\n",
        "logP(c|x,\\mu,\\Sigma,\\pi)\n",
        "=log\\pi_c+logP(x|\\mu,\\Sigma,\\pi)-log(\\sum_{c'}\\pi_{c'}P(x|c',\\mu,\\Sigma))\\\\\n",
        "=log\\pi_c-\\frac{D}{2}log(2\\pi)-\\frac{1}{2}log(|\\Sigma_c|)-\\frac{1}{2}(x-\\mu_c)^T\\Sigma_c^{-1}(x-\\mu_c)\\\\\n",
        "-log(\\sum_{c'}\\pi_{c'}\\frac{1}{(2\\pi)^{\\frac{D}{2}}|\\Sigma_c|^{\\frac{1}{2}}}\\exp(-\\frac{1}{2}(x-\\mu_{c'})^{T}\\Sigma_{c'}^{-1}(x-\\mu_{c'})))$"
      ]
    },
    {
      "cell_type": "code",
      "execution_count": 13,
      "metadata": {
        "colab": {
          "base_uri": "https://localhost:8080/"
        },
        "id": "XEAAlOyn6Veg",
        "outputId": "05fee0eb-5c10-43eb-b1ce-e647c236923d"
      },
      "outputs": [
        {
          "name": "stdout",
          "output_type": "stream",
          "text": [
            "Average log-likelihood for MLE (with variance smoothing) is 1803.901\n",
            "Training accuracy for MLE (with variance smoothing) is 0.998\n",
            "Test accuracy for MLE (with variance smoothing) is 0.995\n"
          ]
        }
      ],
      "source": [
        "def gnb_log_likelihood(images, mu, sigma, pi, epsilon):\n",
        "    sigma = sigma + epsilon\n",
        "\n",
        "    total_samples, total_features = images.shape\n",
        "    total_classes = mu.shape[0]\n",
        "\n",
        "    log_likelihoods = np.zeros((total_samples, total_classes))\n",
        "\n",
        "    for c in range(total_classes):\n",
        "        # Compute log determinant term (-1/2 * log(|Σ_c|))\n",
        "        log_det_sigma = -0.5 * np.sum(np.log(sigma[c]))  # Since sigma is diagonal\n",
        "\n",
        "        # Compute quadratic term (-1/2 * (x - μ_c)^T Σ_c^{-1} (x - μ_c))\n",
        "        inv_sigma = 1 / sigma[c]\n",
        "        diff = images - mu[c]\n",
        "        quadratic_term = -0.5 * np.sum(diff ** 2 * inv_sigma, axis=1)\n",
        "\n",
        "        # Compute final log-likelihood (log P(x | c, μ, Σ))\n",
        "        log_prior = np.log(pi[c])\n",
        "        log_likelihoods[:, c] = log_prior - 0.5 * total_features * np.log(2 * np.pi) + log_det_sigma + quadratic_term\n",
        "\n",
        "    return log_likelihoods\n",
        "\n",
        "N_data, train_images, _, train_labels, test_images, _, test_labels = load_unown_mnist()\n",
        "mu_est, sigma_est, pi_est = train_gnb_mle_estimator(train_images, train_labels)\n",
        "\n",
        "epsilon = 1e-05\n",
        "loglike_train = gnb_log_likelihood(train_images, mu_est, sigma_est, pi_est, epsilon)\n",
        "avg_loglike = np.sum(loglike_train * train_labels) / N_data\n",
        "train_accuracy = accuracy(loglike_train, train_labels)\n",
        "loglike_test = gnb_log_likelihood(test_images, mu_est, sigma_est, pi_est, epsilon)\n",
        "test_accuracy = accuracy(loglike_test, test_labels)\n",
        "\n",
        "print(f\"Average log-likelihood for MLE (with variance smoothing) is {avg_loglike:.3f}\")\n",
        "print(f\"Training accuracy for MLE (with variance smoothing) is {train_accuracy:.3f}\")\n",
        "print(f\"Test accuracy for MLE (with variance smoothing) is {test_accuracy:.3f}\")"
      ]
    },
    {
      "cell_type": "markdown",
      "metadata": {
        "id": "Ln--s2dR6W7q"
      },
      "source": [
        "Using a small value of $\\epsilon$ is a crude way of circumventing the problem of using the MLE directly.\n",
        "\n",
        "The MAP for the Gaussian Naive Bayes can be obtained with the help of the conjugate prior for the multivariate normal distribution, which is the [normal-inverse-Wishart](https://en.wikipedia.org/wiki/Normal-inverse-Wishart_distribution). We will not derive the MAP for the Gaussian Naive Bayes here - but one can still appreciate the benefit of doing so by drawing a comparison to what was found for the Bernoulli Naive Bayes, when $\\alpha=2$ was used as compared with $\\alpha=1$."
      ]
    }
  ],
  "metadata": {
    "colab": {
      "provenance": [],
      "toc_visible": true
    },
    "kernelspec": {
      "display_name": "Python 3",
      "name": "python3"
    },
    "language_info": {
      "name": "python"
    }
  },
  "nbformat": 4,
  "nbformat_minor": 0
}
